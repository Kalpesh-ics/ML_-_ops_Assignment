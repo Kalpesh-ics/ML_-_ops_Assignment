{
  "cells": [
    {
      "cell_type": "markdown",
      "metadata": {
        "id": "LlIGlcIiywyq"
      },
      "source": [
        "## MLOps Assignment 1"
      ]
    },
    {
      "cell_type": "markdown",
      "metadata": {
        "id": "i3GplYoCqa89"
      },
      "source": [
        "Q1. Print multiplication table from 1 to 10"
      ]
    },
    {
      "cell_type": "code",
      "execution_count": null,
      "metadata": {
        "colab": {
          "base_uri": "https://localhost:8080/"
        },
        "id": "wT3AyWz0Pz-g",
        "outputId": "206aa1da-9780-410f-f6bb-191b45d7d94f"
      },
      "outputs": [
        {
          "name": "stdout",
          "output_type": "stream",
          "text": [
            "Multiplication Table for 1\n",
            "1 x 1 = 1\n",
            "1 x 2 = 2\n",
            "1 x 3 = 3\n",
            "1 x 4 = 4\n",
            "1 x 5 = 5\n",
            "1 x 6 = 6\n",
            "1 x 7 = 7\n",
            "1 x 8 = 8\n",
            "1 x 9 = 9\n",
            "1 x 10 = 10\n",
            "\n",
            "Multiplication Table for 2\n",
            "2 x 1 = 2\n",
            "2 x 2 = 4\n",
            "2 x 3 = 6\n",
            "2 x 4 = 8\n",
            "2 x 5 = 10\n",
            "2 x 6 = 12\n",
            "2 x 7 = 14\n",
            "2 x 8 = 16\n",
            "2 x 9 = 18\n",
            "2 x 10 = 20\n",
            "\n",
            "Multiplication Table for 3\n",
            "3 x 1 = 3\n",
            "3 x 2 = 6\n",
            "3 x 3 = 9\n",
            "3 x 4 = 12\n",
            "3 x 5 = 15\n",
            "3 x 6 = 18\n",
            "3 x 7 = 21\n",
            "3 x 8 = 24\n",
            "3 x 9 = 27\n",
            "3 x 10 = 30\n",
            "\n",
            "Multiplication Table for 4\n",
            "4 x 1 = 4\n",
            "4 x 2 = 8\n",
            "4 x 3 = 12\n",
            "4 x 4 = 16\n",
            "4 x 5 = 20\n",
            "4 x 6 = 24\n",
            "4 x 7 = 28\n",
            "4 x 8 = 32\n",
            "4 x 9 = 36\n",
            "4 x 10 = 40\n",
            "\n",
            "Multiplication Table for 5\n",
            "5 x 1 = 5\n",
            "5 x 2 = 10\n",
            "5 x 3 = 15\n",
            "5 x 4 = 20\n",
            "5 x 5 = 25\n",
            "5 x 6 = 30\n",
            "5 x 7 = 35\n",
            "5 x 8 = 40\n",
            "5 x 9 = 45\n",
            "5 x 10 = 50\n",
            "\n",
            "Multiplication Table for 6\n",
            "6 x 1 = 6\n",
            "6 x 2 = 12\n",
            "6 x 3 = 18\n",
            "6 x 4 = 24\n",
            "6 x 5 = 30\n",
            "6 x 6 = 36\n",
            "6 x 7 = 42\n",
            "6 x 8 = 48\n",
            "6 x 9 = 54\n",
            "6 x 10 = 60\n",
            "\n",
            "Multiplication Table for 7\n",
            "7 x 1 = 7\n",
            "7 x 2 = 14\n",
            "7 x 3 = 21\n",
            "7 x 4 = 28\n",
            "7 x 5 = 35\n",
            "7 x 6 = 42\n",
            "7 x 7 = 49\n",
            "7 x 8 = 56\n",
            "7 x 9 = 63\n",
            "7 x 10 = 70\n",
            "\n",
            "Multiplication Table for 8\n",
            "8 x 1 = 8\n",
            "8 x 2 = 16\n",
            "8 x 3 = 24\n",
            "8 x 4 = 32\n",
            "8 x 5 = 40\n",
            "8 x 6 = 48\n",
            "8 x 7 = 56\n",
            "8 x 8 = 64\n",
            "8 x 9 = 72\n",
            "8 x 10 = 80\n",
            "\n",
            "Multiplication Table for 9\n",
            "9 x 1 = 9\n",
            "9 x 2 = 18\n",
            "9 x 3 = 27\n",
            "9 x 4 = 36\n",
            "9 x 5 = 45\n",
            "9 x 6 = 54\n",
            "9 x 7 = 63\n",
            "9 x 8 = 72\n",
            "9 x 9 = 81\n",
            "9 x 10 = 90\n",
            "\n",
            "Multiplication Table for 10\n",
            "10 x 1 = 10\n",
            "10 x 2 = 20\n",
            "10 x 3 = 30\n",
            "10 x 4 = 40\n",
            "10 x 5 = 50\n",
            "10 x 6 = 60\n",
            "10 x 7 = 70\n",
            "10 x 8 = 80\n",
            "10 x 9 = 90\n",
            "10 x 10 = 100\n",
            "\n"
          ]
        }
      ],
      "source": [
        "def print_table():\n",
        "\n",
        "    start = 1\n",
        "    end = 10\n",
        "\n",
        "    # Iterate through numbers 1 to 10 for creating tables\n",
        "    for i in range(start, end + 1):\n",
        "        print(f\"Multiplication Table for {i}\")\n",
        "        for j in range(start, end + 1):\n",
        "            print(f\"{i} x {j} = {i * j}\")\n",
        "        print()\n",
        "print_table()"
      ]
    },
    {
      "cell_type": "markdown",
      "metadata": {
        "id": "kCxjfhGtiMFb"
      },
      "source": [
        "Q2. Given two lists, l1 and l2, write a program to create a third list l3 by picking an odd-index element from the list l1 and even index elements from the list l2."
      ]
    },
    {
      "cell_type": "code",
      "execution_count": null,
      "metadata": {
        "colab": {
          "base_uri": "https://localhost:8080/"
        },
        "id": "r1lkQPN8iNSc",
        "outputId": "0a1e5a80-b3f6-4f61-e6ae-42fe4f6e0a1f"
      },
      "outputs": [
        {
          "name": "stdout",
          "output_type": "stream",
          "text": [
            "List l1: [1, 2, 3, 4, 5, 6]\n",
            "List l2: ['a', 'b', 'c', 'd', 'e', 'f']\n",
            "Combined list l3: [2, 4, 6, 'a', 'c', 'e']\n"
          ]
        }
      ],
      "source": [
        "def create_combined_list(l1, l2):\n",
        "    # Initialize an empty list\n",
        "    l3 = []\n",
        "\n",
        "\n",
        "    for i in range(len(l1)):\n",
        "        # Pick odd-index elements from l1\n",
        "        if i % 2 != 0:\n",
        "            l3.append(l1[i])\n",
        "\n",
        "    for j in range(len(l2)):\n",
        "        # Pick even-index elements from l2\n",
        "        if j % 2 == 0:\n",
        "            l3.append(l2[j])\n",
        "\n",
        "    return l3\n",
        "\n",
        "# Example lists\n",
        "l1 = [1, 2, 3, 4, 5, 6]\n",
        "l2 = ['a', 'b', 'c', 'd', 'e', 'f']\n",
        "\n",
        "# Create the third list\n",
        "l3 = create_combined_list(l1, l2)\n",
        "\n",
        "# Print the result\n",
        "print(\"List l1:\", l1)\n",
        "print(\"List l2:\", l2)\n",
        "print(\"Combined list l3:\", l3)"
      ]
    },
    {
      "cell_type": "markdown",
      "metadata": {
        "id": "GBb0FgtIq4YA"
      },
      "source": [
        "Q3. Print a this pattern(*)\n",
        "\n",
        "    * * * * * * * *\n",
        "      * * * * * * *\n",
        "        * * * * * *\n",
        "          * * * * *\n",
        "            * * * *\n",
        "              * * *\n",
        "                * *\n",
        "                  *"
      ]
    },
    {
      "cell_type": "code",
      "execution_count": null,
      "metadata": {
        "colab": {
          "base_uri": "https://localhost:8080/"
        },
        "id": "VS3QZDy9SBkg",
        "outputId": "7367d02b-0283-4e0e-8f82-df34052daf18"
      },
      "outputs": [
        {
          "name": "stdout",
          "output_type": "stream",
          "text": [
            "* * * * * * * * \n",
            "  * * * * * * * \n",
            "    * * * * * * \n",
            "      * * * * * \n",
            "        * * * * \n",
            "          * * * \n",
            "            * * \n",
            "              * \n"
          ]
        }
      ],
      "source": [
        "\n",
        "rows = 8\n",
        "\n",
        "\n",
        "for i in range(rows):\n",
        "\n",
        "    print(' ' * (2 * i), end='')\n",
        "\n",
        "    print('* ' * (rows - i))\n"
      ]
    },
    {
      "cell_type": "markdown",
      "metadata": {
        "id": "WIblh-z6s9me"
      },
      "source": [
        "Q4. Create a function named `exponent(base, exp)` that returns an integer representing the result of raising `base` to the power of `exp`.\n",
        "`exp` is >0.\n",
        "\n",
        "base = 5\n",
        "exponent = 4\n",
        "\n",
        "5 raises to the power of 4 is: 625\n",
        "i.e. (5 *5 * 5 *5 = 625)"
      ]
    },
    {
      "cell_type": "code",
      "execution_count": null,
      "metadata": {
        "colab": {
          "base_uri": "https://localhost:8080/"
        },
        "id": "6-KKDQNWs8eQ",
        "outputId": "40ab59ef-0001-42b2-d6d6-4d22d07494c0"
      },
      "outputs": [
        {
          "name": "stdout",
          "output_type": "stream",
          "text": [
            "Enter the base: 5\n",
            "Enter the exponent: 5\n",
            "5 raises to the power of <function exponent at 0x7868a23e9d80> is: 3125\n"
          ]
        }
      ],
      "source": [
        "def exponent(base, exp):\n",
        "    result = 1\n",
        "    for _ in range(exp):\n",
        "        result *= base\n",
        "    return result\n",
        "\n",
        "base=int(input(\"Enter the base: \"))\n",
        "exp=int(input(\"Enter the exponent: \"))\n",
        "result = exponent(base, exp)\n",
        "print(f\"{base} raises to the power of {exponent} is: {result}\")"
      ]
    },
    {
      "cell_type": "markdown",
      "metadata": {
        "id": "_QUrD8h6t6PN"
      },
      "source": [
        "Q5. Create a file named test.txt and insert the following content into it.\n",
        "\n",
        "    line1\n",
        "    line2\n",
        "    line3\n",
        "    line4\n",
        "    line5\n",
        "    line6\n",
        "    line7\n",
        "\n",
        "Write a program which write all content of a given file (test.txt) into a new file by skipping line number 5 (line5)"
      ]
    },
    {
      "cell_type": "code",
      "execution_count": null,
      "metadata": {
        "colab": {
          "base_uri": "https://localhost:8080/"
        },
        "id": "I2KF1QHKrq-s",
        "outputId": "60649c2c-ec34-408b-b8bd-5113fbd41664"
      },
      "outputs": [
        {
          "name": "stdout",
          "output_type": "stream",
          "text": [
            "Content has been copied to 'output.txt' with line 5 skipped.\n"
          ]
        }
      ],
      "source": [
        "def new_file_by_skip(input_file, output_file, line_skip):\n",
        "    try:\n",
        "\n",
        "        with open(input_file, 'r') as infile:\n",
        "\n",
        "            with open(output_file, 'w') as outfile:\n",
        "\n",
        "                for line_number, line in enumerate(infile, start=1):\n",
        "\n",
        "                    if line_number != line_skip:\n",
        "                        outfile.write(line)\n",
        "        print(f\"Content has been copied to '{output_file}' with line {line_skip} skipped.\")\n",
        "    except FileNotFoundError:\n",
        "        print(f\"Error: The file '{input_file}' does not exist.\")\n",
        "    except IOError as e:\n",
        "        print(f\"An I/O error occurred: {e}\")\n",
        "\n",
        "\n",
        "input_file = 'test.txt'\n",
        "output_file = 'output.txt'\n",
        "line_to_skip = 5\n",
        "\n",
        "\n",
        "new_file_by_skip(input_file, output_file, line_to_skip)\n"
      ]
    },
    {
      "cell_type": "markdown",
      "metadata": {
        "id": "6cdAt0ONvMVI"
      },
      "source": [
        "Q6. Write a program which receives three names from the user in a single input() function call.\n",
        "\n",
        "    Input: IIT JODHPUR RAJASTHAN\n",
        "\n",
        "    Output:\n",
        "    IIT\n",
        "    JODHPUR\n",
        "    RAJASTHAN"
      ]
    },
    {
      "cell_type": "code",
      "execution_count": null,
      "metadata": {
        "colab": {
          "base_uri": "https://localhost:8080/"
        },
        "id": "LiJDDgL3W6Wg",
        "outputId": "aa73d957-d5b1-453d-86d7-0ec3203a5ac4"
      },
      "outputs": [
        {
          "name": "stdout",
          "output_type": "stream",
          "text": [
            "Enter three words/character separated by spaces: i i i\n",
            "i\n",
            "i\n",
            "i\n"
          ]
        }
      ],
      "source": [
        "def main():\n",
        "    user_input = input(\"Enter three words/character separated by spaces: \")\n",
        "\n",
        "\n",
        "    names = user_input.split()\n",
        "\n",
        "    if len(names) != 3:\n",
        "        print(\"Please enter exactly three names.\")\n",
        "    else:\n",
        "        for name in names:\n",
        "            print(name)\n",
        "\n",
        "if __name__ == \"__main__\":\n",
        "    main()\n"
      ]
    },
    {
      "cell_type": "markdown",
      "metadata": {
        "id": "jwSKpPcYv_De"
      },
      "source": [
        "Q7. Write a program to define a function called show_employee() with the following requirements:\n",
        "\n",
        "*   It should take the employee's name and salary as input and display both.\n",
        "*   If the salary is not provided in the function call, assign a default value of 9000 to it.\n",
        "\n",
        "After passing:\n",
        "\n",
        "showEmployee(\"Bill Gates\", 12000)\n",
        "\n",
        "showEmployee(\"Elon Musk\")\n",
        "\n",
        "It should print:\n",
        "\n",
        "Name: Bill Gates salary: 12000\n",
        "\n",
        "Name: Elon Musk salary: 9000"
      ]
    },
    {
      "cell_type": "code",
      "execution_count": null,
      "metadata": {
        "colab": {
          "base_uri": "https://localhost:8080/"
        },
        "id": "yyzhkF1Lv94j",
        "outputId": "e6455ba9-3d44-4e99-cae2-d652fbeee876"
      },
      "outputs": [
        {
          "name": "stdout",
          "output_type": "stream",
          "text": [
            "Name: Bill Gates salary: 12000\n",
            "Name: Elon Musk salary: 9000\n"
          ]
        }
      ],
      "source": [
        "def show_employee(name, salary=9000):\n",
        "\n",
        "    print(f\"Name: {name} salary: {salary}\")\n",
        "\n",
        "\n",
        "show_employee(\"Bill Gates\", 12000)\n",
        "show_employee(\"Elon Musk\", 9000)\n"
      ]
    },
    {
      "cell_type": "markdown",
      "metadata": {
        "id": "BAtCQH3pxXWV"
      },
      "source": [
        "Q8. Write a program to identify words that contain both letters and digits from a given input string.\n",
        "\n",
        "    Given str1 = \"Harry25 is Gryffindor Wizard50 and cursed\"\n",
        "\n",
        "    Output:\n",
        "    Harry25\n",
        "    Wizard50"
      ]
    },
    {
      "cell_type": "code",
      "execution_count": null,
      "metadata": {
        "colab": {
          "base_uri": "https://localhost:8080/"
        },
        "id": "bqbyxYdqvJHY",
        "outputId": "c6028701-d0ba-41c7-a6b7-2920e7dadcfa"
      },
      "outputs": [
        {
          "name": "stdout",
          "output_type": "stream",
          "text": [
            "Enter a string with words containing letters and digits: iam\n",
            "Error: The word 'iam' does not contain any numbers.\n",
            "Error: No words with digits found. Please try again.\n",
            "Enter a string with words containing letters and digits: ian77 ryley\n",
            "Error: The word 'ryley' does not contain any numbers.\n",
            "Words containing both letters and digits:\n",
            "ian77\n"
          ]
        }
      ],
      "source": [
        "import re\n",
        "\n",
        "def find_words_with_letters_and_digits(input_string):\n",
        "\n",
        "    words = input_string.split()\n",
        "\n",
        "    result = []\n",
        "\n",
        "    found_digit = False\n",
        "\n",
        "    for word in words:\n",
        "        if re.search(r'[a-zA-Z]', word) and re.search(r'\\d', word):\n",
        "            result.append(word)\n",
        "            found_digit = True\n",
        "        else:\n",
        "            if not re.search(r'\\d', word):\n",
        "                print(f\"Error: The word '{word}' does not contain any numbers.\")\n",
        "\n",
        "    return result, found_digit\n",
        "\n",
        "def main():\n",
        "    while True:\n",
        "        user_input = input(\"Enter a string with words containing letters and digits: \")\n",
        "\n",
        "        words_with_letters_and_digits, found_digit = find_words_with_letters_and_digits(user_input)\n",
        "\n",
        "        if words_with_letters_and_digits:\n",
        "            print(\"Words containing both letters and digits:\")\n",
        "            for word in words_with_letters_and_digits:\n",
        "                print(word)\n",
        "            break\n",
        "        else:\n",
        "            if not found_digit:\n",
        "                print(\"Error: No words with digits found. Please try again.\")\n",
        "            else:\n",
        "                print(\"No words with both letters and digits found. Please try again.\")\n",
        "\n",
        "if __name__ == \"__main__\":\n",
        "    main()\n"
      ]
    },
    {
      "cell_type": "markdown",
      "metadata": {
        "id": "Ev6TIw7oyGzJ"
      },
      "source": [
        "Q9. Write a program to substitute each special character in the given string with the symbol #.\n",
        "\n",
        "    Given: str1 = '/*Modi is @Politician & Melony!!'\n",
        "\n",
        "    Output: ##Modi is #Politician # Melony##"
      ]
    },
    {
      "cell_type": "code",
      "execution_count": 49,
      "metadata": {
        "colab": {
          "base_uri": "https://localhost:8080/",
          "height": 333
        },
        "id": "Hbg92hJtvJE7",
        "outputId": "a84b9338-39a1-4ae3-89b6-7ee7293eec95"
      },
      "outputs": [
        {
          "ename": "KeyboardInterrupt",
          "evalue": "Interrupted by user",
          "output_type": "error",
          "traceback": [
            "\u001b[0;31m---------------------------------------------------------------------------\u001b[0m",
            "\u001b[0;31mKeyboardInterrupt\u001b[0m                         Traceback (most recent call last)",
            "\u001b[0;32m<ipython-input-49-cba9852128f9>\u001b[0m in \u001b[0;36m<cell line: 16>\u001b[0;34m()\u001b[0m\n\u001b[1;32m     15\u001b[0m \u001b[0;34m\u001b[0m\u001b[0m\n\u001b[1;32m     16\u001b[0m \u001b[0;32mif\u001b[0m \u001b[0m__name__\u001b[0m \u001b[0;34m==\u001b[0m \u001b[0;34m\"__main__\"\u001b[0m\u001b[0;34m:\u001b[0m\u001b[0;34m\u001b[0m\u001b[0;34m\u001b[0m\u001b[0m\n\u001b[0;32m---> 17\u001b[0;31m     \u001b[0mmain\u001b[0m\u001b[0;34m(\u001b[0m\u001b[0;34m)\u001b[0m\u001b[0;34m\u001b[0m\u001b[0;34m\u001b[0m\u001b[0m\n\u001b[0m",
            "\u001b[0;32m<ipython-input-49-cba9852128f9>\u001b[0m in \u001b[0;36mmain\u001b[0;34m()\u001b[0m\n\u001b[1;32m      8\u001b[0m \u001b[0;34m\u001b[0m\u001b[0m\n\u001b[1;32m      9\u001b[0m \u001b[0;32mdef\u001b[0m \u001b[0mmain\u001b[0m\u001b[0;34m(\u001b[0m\u001b[0;34m)\u001b[0m\u001b[0;34m:\u001b[0m\u001b[0;34m\u001b[0m\u001b[0;34m\u001b[0m\u001b[0m\n\u001b[0;32m---> 10\u001b[0;31m     \u001b[0muser_input\u001b[0m \u001b[0;34m=\u001b[0m \u001b[0minput\u001b[0m\u001b[0;34m(\u001b[0m\u001b[0;34m\"Enter a string with special characters: \"\u001b[0m\u001b[0;34m)\u001b[0m\u001b[0;34m\u001b[0m\u001b[0;34m\u001b[0m\u001b[0m\n\u001b[0m\u001b[1;32m     11\u001b[0m \u001b[0;34m\u001b[0m\u001b[0m\n\u001b[1;32m     12\u001b[0m     \u001b[0mresult\u001b[0m \u001b[0;34m=\u001b[0m \u001b[0msubstitute_special_characters\u001b[0m\u001b[0;34m(\u001b[0m\u001b[0muser_input\u001b[0m\u001b[0;34m)\u001b[0m\u001b[0;34m\u001b[0m\u001b[0;34m\u001b[0m\u001b[0m\n",
            "\u001b[0;32m/usr/local/lib/python3.10/dist-packages/ipykernel/kernelbase.py\u001b[0m in \u001b[0;36mraw_input\u001b[0;34m(self, prompt)\u001b[0m\n\u001b[1;32m    849\u001b[0m                 \u001b[0;34m\"raw_input was called, but this frontend does not support input requests.\"\u001b[0m\u001b[0;34m\u001b[0m\u001b[0;34m\u001b[0m\u001b[0m\n\u001b[1;32m    850\u001b[0m             )\n\u001b[0;32m--> 851\u001b[0;31m         return self._input_request(str(prompt),\n\u001b[0m\u001b[1;32m    852\u001b[0m             \u001b[0mself\u001b[0m\u001b[0;34m.\u001b[0m\u001b[0m_parent_ident\u001b[0m\u001b[0;34m,\u001b[0m\u001b[0;34m\u001b[0m\u001b[0;34m\u001b[0m\u001b[0m\n\u001b[1;32m    853\u001b[0m             \u001b[0mself\u001b[0m\u001b[0;34m.\u001b[0m\u001b[0m_parent_header\u001b[0m\u001b[0;34m,\u001b[0m\u001b[0;34m\u001b[0m\u001b[0;34m\u001b[0m\u001b[0m\n",
            "\u001b[0;32m/usr/local/lib/python3.10/dist-packages/ipykernel/kernelbase.py\u001b[0m in \u001b[0;36m_input_request\u001b[0;34m(self, prompt, ident, parent, password)\u001b[0m\n\u001b[1;32m    893\u001b[0m             \u001b[0;32mexcept\u001b[0m \u001b[0mKeyboardInterrupt\u001b[0m\u001b[0;34m:\u001b[0m\u001b[0;34m\u001b[0m\u001b[0;34m\u001b[0m\u001b[0m\n\u001b[1;32m    894\u001b[0m                 \u001b[0;31m# re-raise KeyboardInterrupt, to truncate traceback\u001b[0m\u001b[0;34m\u001b[0m\u001b[0;34m\u001b[0m\u001b[0m\n\u001b[0;32m--> 895\u001b[0;31m                 \u001b[0;32mraise\u001b[0m \u001b[0mKeyboardInterrupt\u001b[0m\u001b[0;34m(\u001b[0m\u001b[0;34m\"Interrupted by user\"\u001b[0m\u001b[0;34m)\u001b[0m \u001b[0;32mfrom\u001b[0m \u001b[0;32mNone\u001b[0m\u001b[0;34m\u001b[0m\u001b[0;34m\u001b[0m\u001b[0m\n\u001b[0m\u001b[1;32m    896\u001b[0m             \u001b[0;32mexcept\u001b[0m \u001b[0mException\u001b[0m \u001b[0;32mas\u001b[0m \u001b[0me\u001b[0m\u001b[0;34m:\u001b[0m\u001b[0;34m\u001b[0m\u001b[0;34m\u001b[0m\u001b[0m\n\u001b[1;32m    897\u001b[0m                 \u001b[0mself\u001b[0m\u001b[0;34m.\u001b[0m\u001b[0mlog\u001b[0m\u001b[0;34m.\u001b[0m\u001b[0mwarning\u001b[0m\u001b[0;34m(\u001b[0m\u001b[0;34m\"Invalid Message:\"\u001b[0m\u001b[0;34m,\u001b[0m \u001b[0mexc_info\u001b[0m\u001b[0;34m=\u001b[0m\u001b[0;32mTrue\u001b[0m\u001b[0;34m)\u001b[0m\u001b[0;34m\u001b[0m\u001b[0;34m\u001b[0m\u001b[0m\n",
            "\u001b[0;31mKeyboardInterrupt\u001b[0m: Interrupted by user"
          ]
        }
      ],
      "source": [
        "import re\n",
        "\n",
        "def substitute_special_characters(input_string):\n",
        "\n",
        "    processed_string = re.sub(r'[^a-zA-Z0-9\\s]', '#', input_string)\n",
        "\n",
        "    return processed_string\n",
        "\n",
        "def main():\n",
        "    user_input = input(\"Enter a string with special characters: \")\n",
        "\n",
        "    result = substitute_special_characters(user_input)\n",
        "\n",
        "    print(\"Processed string:\", result)\n",
        "\n",
        "if __name__ == \"__main__\":\n",
        "    main()\n"
      ]
    },
    {
      "cell_type": "markdown",
      "metadata": {
        "id": "L9zg8k_XyoMz"
      },
      "source": [
        "Q10. Construct a Python set that displays elements from both lists as pairs.\n",
        "\n",
        "    Given:\n",
        "\n",
        "    first_list = [2, 3, 4, 5, 6, 7, 8]\n",
        "    second_list = [4, 9, 16, 25, 36, 49, 64]\n",
        "    Output: Result is  {(6, 36), (8, 64), (4, 16), (5, 25), (3, 9), (7, 49), (2, 4)}"
      ]
    },
    {
      "cell_type": "code",
      "execution_count": 51,
      "metadata": {
        "colab": {
          "base_uri": "https://localhost:8080/"
        },
        "id": "aSBw6V0OvJCS",
        "outputId": "7bccdfba-a076-483a-9c56-66d189c67649"
      },
      "outputs": [
        {
          "name": "stdout",
          "output_type": "stream",
          "text": [
            "Result is {(7, 49), (2, 4), (4, 16), (8, 64), (6, 36), (3, 9), (5, 25)}\n"
          ]
        }
      ],
      "source": [
        "\n",
        "first_list = [2, 3, 4, 5, 6, 7, 8]\n",
        "second_list = [4, 9, 16, 25, 36, 49, 64]\n",
        "\n",
        "result_set = {(x, y) for x in first_list for y in second_list if y == x**2}\n",
        "\n",
        "print(\"Result is\", result_set)\n"
      ]
    },
    {
      "cell_type": "markdown",
      "metadata": {
        "id": "JHa0SMOozZo9"
      },
      "source": [
        "Q11. Define two set A and B consisting of 5 elements. Now print the element after performing\n",
        "\n",
        "\n",
        "      1.   A-B\n",
        "      2.   B-A\n",
        "      3.   A∩B\n",
        "      4.   A∪B\n",
        "\n",
        "\n"
      ]
    },
    {
      "cell_type": "code",
      "execution_count": 56,
      "metadata": {
        "colab": {
          "base_uri": "https://localhost:8080/"
        },
        "id": "r9vL1bpHzZGg",
        "outputId": "0cae7e51-0096-4c44-c678-cf37be92098c"
      },
      "outputs": [
        {
          "name": "stdout",
          "output_type": "stream",
          "text": [
            "Enter 5 elements in set A (separated by spaces): 12 35 25 39 14\n",
            "Enter 5 elements in set B (separated by spaces): 14 54 29 39 12\n",
            "A-B = {25, 35}\n",
            "B-A = {29, 54}\n",
            "A∩B = {12, 14, 39}\n",
            "A∪B = {35, 39, 12, 14, 54, 25, 29}\n"
          ]
        }
      ],
      "source": [
        "setA = set(int(x) for x in input(\"Enter 5 elements in set A (separated by spaces): \").split())\n",
        "setB = set(int(x) for x in input(\"Enter 5 elements in set B (separated by spaces): \").split())\n",
        "if len(setA) != 5 or len(setB) != 5:\n",
        "  print(\"Please enter 5 elements in each set!\")\n",
        "else:\n",
        "  print(\"A-B =\", setA-setB)\n",
        "  print(\"B-A =\", setB-setA)\n",
        "  print(\"A∩B =\", setA&setB)\n",
        "  print(\"A∪B =\", setA|setB)\n"
      ]
    },
    {
      "cell_type": "markdown",
      "metadata": {
        "id": "UFjTtL_i00dz"
      },
      "source": [
        "## Object Oriented Programming Exercise 1:\n",
        "\n",
        "[Classes and Objects in Python](https://pynative.com/python-classes-and-objects/)\n",
        "\n",
        "[Instance variables in Python](https://pynative.com/python-instance-variables/)"
      ]
    },
    {
      "cell_type": "markdown",
      "metadata": {
        "id": "-PQELvq41z5B"
      },
      "source": [
        "Q12. Create a Vehicle class with max_speed and mileage instance attributes."
      ]
    },
    {
      "cell_type": "code",
      "execution_count": 63,
      "metadata": {
        "colab": {
          "base_uri": "https://localhost:8080/"
        },
        "id": "Wa16l5-C0z3Z",
        "outputId": "f1c6b00c-eb44-4fe9-ae2b-62a93c85d88f"
      },
      "outputs": [
        {
          "name": "stdout",
          "output_type": "stream",
          "text": [
            "Vehicle(max_speed=200, mileage=10000)\n"
          ]
        }
      ],
      "source": [
        "class Vehicle:\n",
        "    def __init__(self, max_speed, mileage):\n",
        "        self.max_speed = max_speed\n",
        "        self.mileage = mileage\n",
        "\n",
        "    def __repr__(self):\n",
        "      return f\"Vehicle(max_speed={self.max_speed}, mileage={self.mileage})\"\n",
        "print(Vehicle(200, 10000))\n"
      ]
    },
    {
      "cell_type": "markdown",
      "metadata": {
        "id": "-Japqg35177L"
      },
      "source": [
        "Q13. Create a child class Bus that will inherit all of the variables and methods of the Vehicle class.\n",
        "\n",
        "Create a Bus object that will inherit all of the variables and methods of the parent Vehicle class and display it."
      ]
    },
    {
      "cell_type": "code",
      "execution_count": 64,
      "metadata": {
        "colab": {
          "base_uri": "https://localhost:8080/"
        },
        "id": "nUvpX3qR2Upg",
        "outputId": "8c435d1d-fad8-4cd8-f398-03a8a9284131"
      },
      "outputs": [
        {
          "name": "stdout",
          "output_type": "stream",
          "text": [
            "Bus(max_speed=80, mileage=50000, seating_capacity=50)\n"
          ]
        }
      ],
      "source": [
        "class Vehicle:\n",
        "    def __init__(self, max_speed, mileage):\n",
        "        self.max_speed = max_speed\n",
        "        self.mileage = mileage\n",
        "\n",
        "    def __repr__(self):\n",
        "        return f\"Vehicle(max_speed={self.max_speed}, mileage={self.mileage})\"\n",
        "\n",
        "class Bus(Vehicle):\n",
        "    def __init__(self, max_speed, mileage, seating_capacity):\n",
        "        super().__init__(max_speed, mileage)\n",
        "        self.seating_capacity = seating_capacity\n",
        "\n",
        "    def __repr__(self):\n",
        "        return f\"Bus(max_speed={self.max_speed}, mileage={self.mileage}, seating_capacity={self.seating_capacity})\"\n",
        "\n",
        "\n",
        "my_bus = Bus(max_speed=80, mileage=50000, seating_capacity=50)\n",
        "\n",
        "\n",
        "print(my_bus)\n"
      ]
    },
    {
      "cell_type": "markdown",
      "metadata": {
        "id": "fPFfg2Hh2VBe"
      },
      "source": [
        "### Class Inheritance\n",
        "\n",
        "Q14. Create a Bus class that inherits from the Vehicle class. Give the capacity argument of Bus.seating_capacity() a default value of 50.\n",
        "\n",
        "Use the following code for your parent Vehicle class.\n",
        "\n",
        "    class Vehicle:\n",
        "      def __init__(self, name, max_speed, mileage):\n",
        "          self.name = name\n",
        "          self.max_speed = max_speed\n",
        "          self.mileage = mileage\n",
        "\n",
        "      def seating_capacity(self, capacity):\n",
        "          return f\"The seating capacity of a {self.name} is {capacity} passengers\"\n",
        "\n",
        "Expected Output:\n",
        "\n",
        "    The seating capacity of a bus is 50 passengers"
      ]
    },
    {
      "cell_type": "code",
      "execution_count": 70,
      "metadata": {
        "colab": {
          "base_uri": "https://localhost:8080/"
        },
        "id": "TKalMy1B2_Ix",
        "outputId": "fe863882-2c52-4055-fa5b-6610b53f9706"
      },
      "outputs": [
        {
          "name": "stdout",
          "output_type": "stream",
          "text": [
            "The seating capacity of this bus is 50 passengers\n"
          ]
        }
      ],
      "source": [
        "\n",
        "class Vehicle:\n",
        "    def __init__(self, name, max_speed, mileage):\n",
        "        self.name = name\n",
        "        self.max_speed = max_speed\n",
        "        self.mileage = mileage\n",
        "\n",
        "    def seating_limit(self, limit):\n",
        "        return f\"The seating capacity of this {self.name} is {limit} passengers\"\n",
        "\n",
        "\n",
        "class Bus(Vehicle):\n",
        "    def __init__(self, name, max_speed, mileage):\n",
        "        super().__init__(name, max_speed, mileage)\n",
        "\n",
        "    def seating_limit(self, limit=50):\n",
        "        return f\"The seating capacity of this {self.name} is {limit} passengers\"\n",
        "\n",
        "this_bus = Bus(name=\"bus\", max_speed=80, mileage=50000)\n",
        "\n",
        "print(this_bus.seating_limit())\n"
      ]
    },
    {
      "cell_type": "markdown",
      "metadata": {
        "id": "kenJ766m2_jc"
      },
      "source": [
        "Q15. Create a Bus subclass that inherits from the Vehicle class. By default, the fare for any vehicle is calculated as the seating capacity multiplied by 100. For instances of the Bus class, an additional 10% maintenance fee should be applied to the total fare. Therefore, the final fare for a bus instance will be the sum of the total fare plus an additional 10% of that total fare.\n",
        "\n",
        "Note: The bus has a seating capacity of 50, so the final fare amount should be 5500. You need to override the fare() method from the Vehicle class in the Bus class.\n",
        "\n",
        "Use the provided code for the parent Vehicle class. You should access the parent class within a method of the child class.\n",
        "\n",
        "    class Vehicle:\n",
        "      def __init__(self, name, mileage, capacity):\n",
        "        self.name = name\n",
        "        self.mileage = mileage\n",
        "        self.capacity = capacity\n",
        "\n",
        "      def fare(self):\n",
        "        return self.capacity * 100\n",
        "\n",
        "    class Bus(Vehicle):\n",
        "        pass\n",
        "        School_bus = Bus(\"School Volvo\", 12, 50)\n",
        "        print(\"Total Bus fare is:\", School_bus.fare())\n",
        "\n",
        "    Expected Output:\n",
        "\n",
        "    Total Bus fare is: 5500.0"
      ]
    },
    {
      "cell_type": "code",
      "execution_count": 73,
      "metadata": {
        "colab": {
          "base_uri": "https://localhost:8080/"
        },
        "id": "jY3Z5SsY_iaQ",
        "outputId": "c09bd03f-aad3-4978-c560-252d66a669ee"
      },
      "outputs": [
        {
          "name": "stdout",
          "output_type": "stream",
          "text": [
            "Total Bus fee is: 5500.0\n"
          ]
        }
      ],
      "source": [
        "class Vehicle:\n",
        "    def __init__(self, name, mileage, capacity):\n",
        "        self.name = name\n",
        "        self.mileage = mileage\n",
        "        self.capacity = capacity\n",
        "\n",
        "    def fee(self):\n",
        "        return self.capacity * 100\n",
        "\n",
        "class Bus(Vehicle):\n",
        "    def fare(self):\n",
        "        base_fee = super().fee()\n",
        "        maintenance_fee = base_fee * 0.10\n",
        "        total_fee = base_fee + maintenance_fee\n",
        "        return total_fee\n",
        "\n",
        "School_bus = Bus(\"School bus\", 12, 50)\n",
        "\n",
        "print(\"Total Bus fee is:\", School_bus.fare())\n"
      ]
    },
    {
      "cell_type": "markdown",
      "metadata": {
        "id": "3wMvLEkk_nWE"
      },
      "source": [
        "### Python JSON Exercise\n",
        "Refer: [Python JSON tutorials](https://pynative.com/python/json/)"
      ]
    },
    {
      "cell_type": "markdown",
      "metadata": {
        "id": "zVIiuI0PAcuT"
      },
      "source": [
        "Q16. Convert the following dictionary into JSON format\n",
        "\n",
        "    data = {\"key1\" : \"value1\", \"key2\" : \"value2\"}\n",
        "    data = {\"key1\" : \"value1\", \"key2\" : \"value2\"}"
      ]
    },
    {
      "cell_type": "code",
      "execution_count": 75,
      "metadata": {
        "colab": {
          "base_uri": "https://localhost:8080/"
        },
        "id": "Z5M47OYS_mhA",
        "outputId": "7f577dd3-1b24-4220-9eae-b1d12b88fc87"
      },
      "outputs": [
        {
          "name": "stdout",
          "output_type": "stream",
          "text": [
            "{\"key1\": \"value1\", \"key2\": \"value2\"}\n"
          ]
        }
      ],
      "source": [
        "import json\n",
        "\n",
        "data = {\"key1\": \"value1\", \"key2\": \"value2\"}\n",
        "\n",
        "json_data = json.dumps(data)\n",
        "\n",
        "print(json_data)\n"
      ]
    },
    {
      "cell_type": "markdown",
      "metadata": {
        "id": "8eE35QccA_X-"
      },
      "source": [
        "Q17. Sort JSON keys in and write them into a file\n",
        "\n",
        "    sampleJson = {\"id\" : 1, \"name\" : \"value2\", \"age\" : 29}\n",
        "\n",
        "    {\n",
        "          \"age\": 29,\n",
        "          \"id\": 1,\n",
        "          \"name\": \"value2\"\n",
        "    }"
      ]
    },
    {
      "cell_type": "code",
      "execution_count": 77,
      "metadata": {
        "colab": {
          "base_uri": "https://localhost:8080/"
        },
        "id": "jLG5tk_X_j5O",
        "outputId": "3cbbb1b3-bec4-4016-e0e0-0996b9c6b260"
      },
      "outputs": [
        {
          "name": "stdout",
          "output_type": "stream",
          "text": [
            "Sorted JSON has been written to {text.txt}\n"
          ]
        }
      ],
      "source": [
        "import json\n",
        "\n",
        "sampleJson = {\"id\": 1, \"name\": \"value2\", \"age\": 29}\n",
        "\n",
        "json_data_sorted = json.dumps(sampleJson, sort_keys=True, indent=2)\n",
        "\n",
        "file_name = 'sorted_json.json'\n",
        "\n",
        "with open(file_name, 'w') as file:\n",
        "    file.write(json_data_sorted)\n",
        "\n",
        "print(\"Sorted JSON has been written to {text.txt}\")\n"
      ]
    }
  ],
  "metadata": {
    "colab": {
      "provenance": []
    },
    "kernelspec": {
      "display_name": "Python 3",
      "name": "python3"
    },
    "language_info": {
      "name": "python"
    }
  },
  "nbformat": 4,
  "nbformat_minor": 0
}
